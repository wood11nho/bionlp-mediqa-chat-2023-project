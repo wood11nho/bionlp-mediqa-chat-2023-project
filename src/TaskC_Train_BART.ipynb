{
 "cells": [
  {
   "cell_type": "code",
   "execution_count": 1,
   "id": "8ff4be13",
   "metadata": {},
   "outputs": [
    {
     "name": "stdout",
     "output_type": "stream",
     "text": [
      "Requirement already satisfied: transformers in c:\\users\\rog\\anaconda3\\envs\\licenta\\lib\\site-packages (4.48.0)\n",
      "Requirement already satisfied: datasets in c:\\users\\rog\\anaconda3\\envs\\licenta\\lib\\site-packages (2.19.0)\n",
      "Requirement already satisfied: sentencepiece in c:\\users\\rog\\anaconda3\\envs\\licenta\\lib\\site-packages (0.2.0)\n",
      "Requirement already satisfied: filelock in c:\\users\\rog\\anaconda3\\envs\\licenta\\lib\\site-packages (from transformers) (3.13.1)\n",
      "Requirement already satisfied: huggingface-hub<1.0,>=0.24.0 in c:\\users\\rog\\anaconda3\\envs\\licenta\\lib\\site-packages (from transformers) (0.27.1)\n",
      "Requirement already satisfied: numpy>=1.17 in c:\\users\\rog\\anaconda3\\envs\\licenta\\lib\\site-packages (from transformers) (1.26.0)\n",
      "Requirement already satisfied: packaging>=20.0 in c:\\users\\rog\\anaconda3\\envs\\licenta\\lib\\site-packages (from transformers) (23.2)\n",
      "Requirement already satisfied: pyyaml>=5.1 in c:\\users\\rog\\anaconda3\\envs\\licenta\\lib\\site-packages (from transformers) (6.0.1)\n",
      "Requirement already satisfied: regex!=2019.12.17 in c:\\users\\rog\\anaconda3\\envs\\licenta\\lib\\site-packages (from transformers) (2023.12.25)\n",
      "Requirement already satisfied: requests in c:\\users\\rog\\appdata\\roaming\\python\\python310\\site-packages (from transformers) (2.31.0)\n",
      "Requirement already satisfied: tokenizers<0.22,>=0.21 in c:\\users\\rog\\anaconda3\\envs\\licenta\\lib\\site-packages (from transformers) (0.21.0)\n",
      "Requirement already satisfied: safetensors>=0.4.1 in c:\\users\\rog\\anaconda3\\envs\\licenta\\lib\\site-packages (from transformers) (0.4.3)\n",
      "Requirement already satisfied: tqdm>=4.27 in c:\\users\\rog\\anaconda3\\envs\\licenta\\lib\\site-packages (from transformers) (4.66.1)\n",
      "Requirement already satisfied: pyarrow>=12.0.0 in c:\\users\\rog\\anaconda3\\envs\\licenta\\lib\\site-packages (from datasets) (16.0.0)\n",
      "Requirement already satisfied: pyarrow-hotfix in c:\\users\\rog\\anaconda3\\envs\\licenta\\lib\\site-packages (from datasets) (0.6)\n",
      "Requirement already satisfied: dill<0.3.9,>=0.3.0 in c:\\users\\rog\\anaconda3\\envs\\licenta\\lib\\site-packages (from datasets) (0.3.8)\n",
      "Requirement already satisfied: pandas in c:\\users\\rog\\anaconda3\\envs\\licenta\\lib\\site-packages (from datasets) (2.2.2)\n",
      "Requirement already satisfied: xxhash in c:\\users\\rog\\anaconda3\\envs\\licenta\\lib\\site-packages (from datasets) (3.4.1)\n",
      "Requirement already satisfied: multiprocess in c:\\users\\rog\\anaconda3\\envs\\licenta\\lib\\site-packages (from datasets) (0.70.16)\n",
      "Requirement already satisfied: fsspec<=2024.3.1,>=2023.1.0 in c:\\users\\rog\\anaconda3\\envs\\licenta\\lib\\site-packages (from fsspec[http]<=2024.3.1,>=2023.1.0->datasets) (2024.3.1)\n",
      "Requirement already satisfied: aiohttp in c:\\users\\rog\\anaconda3\\envs\\licenta\\lib\\site-packages (from datasets) (3.9.5)\n",
      "Requirement already satisfied: aiosignal>=1.1.2 in c:\\users\\rog\\anaconda3\\envs\\licenta\\lib\\site-packages (from aiohttp->datasets) (1.3.1)\n",
      "Requirement already satisfied: attrs>=17.3.0 in c:\\users\\rog\\anaconda3\\envs\\licenta\\lib\\site-packages (from aiohttp->datasets) (24.3.0)\n",
      "Requirement already satisfied: frozenlist>=1.1.1 in c:\\users\\rog\\anaconda3\\envs\\licenta\\lib\\site-packages (from aiohttp->datasets) (1.4.1)\n",
      "Requirement already satisfied: multidict<7.0,>=4.5 in c:\\users\\rog\\anaconda3\\envs\\licenta\\lib\\site-packages (from aiohttp->datasets) (6.0.5)\n",
      "Requirement already satisfied: yarl<2.0,>=1.0 in c:\\users\\rog\\anaconda3\\envs\\licenta\\lib\\site-packages (from aiohttp->datasets) (1.9.4)\n",
      "Requirement already satisfied: async-timeout<5.0,>=4.0 in c:\\users\\rog\\anaconda3\\envs\\licenta\\lib\\site-packages (from aiohttp->datasets) (4.0.3)\n",
      "Requirement already satisfied: typing-extensions>=3.7.4.3 in c:\\users\\rog\\anaconda3\\envs\\licenta\\lib\\site-packages (from huggingface-hub<1.0,>=0.24.0->transformers) (4.12.2)\n",
      "Requirement already satisfied: charset-normalizer<4,>=2 in c:\\users\\rog\\appdata\\roaming\\python\\python310\\site-packages (from requests->transformers) (3.3.2)\n",
      "Requirement already satisfied: idna<4,>=2.5 in c:\\users\\rog\\appdata\\roaming\\python\\python310\\site-packages (from requests->transformers) (3.4)\n",
      "Requirement already satisfied: urllib3<3,>=1.21.1 in c:\\users\\rog\\anaconda3\\envs\\licenta\\lib\\site-packages (from requests->transformers) (2.1.0)\n",
      "Requirement already satisfied: certifi>=2017.4.17 in c:\\users\\rog\\appdata\\roaming\\python\\python310\\site-packages (from requests->transformers) (2023.11.17)\n",
      "Requirement already satisfied: colorama in c:\\users\\rog\\anaconda3\\envs\\licenta\\lib\\site-packages (from tqdm>=4.27->transformers) (0.4.6)\n",
      "Requirement already satisfied: python-dateutil>=2.8.2 in c:\\users\\rog\\anaconda3\\envs\\licenta\\lib\\site-packages (from pandas->datasets) (2.8.2)\n",
      "Requirement already satisfied: pytz>=2020.1 in c:\\users\\rog\\anaconda3\\envs\\licenta\\lib\\site-packages (from pandas->datasets) (2024.1)\n",
      "Requirement already satisfied: tzdata>=2022.7 in c:\\users\\rog\\anaconda3\\envs\\licenta\\lib\\site-packages (from pandas->datasets) (2024.1)\n",
      "Requirement already satisfied: six>=1.5 in c:\\users\\rog\\anaconda3\\envs\\licenta\\lib\\site-packages (from python-dateutil>=2.8.2->pandas->datasets) (1.16.0)\n"
     ]
    }
   ],
   "source": [
    "# Install required packages\n",
    "!pip install transformers datasets sentencepiece"
   ]
  },
  {
   "cell_type": "code",
   "execution_count": 18,
   "id": "090455dd",
   "metadata": {},
   "outputs": [
    {
     "name": "stderr",
     "output_type": "stream",
     "text": [
      "c:\\Users\\RoG\\anaconda3\\envs\\licenta\\lib\\site-packages\\huggingface_hub\\file_download.py:140: UserWarning: `huggingface_hub` cache-system uses symlinks by default to efficiently store duplicated files but your machine does not support them in C:\\Users\\RoG\\.cache\\huggingface\\hub\\models--facebook--bart-base. Caching files will still work but in a degraded version that might require more space on your disk. This warning can be disabled by setting the `HF_HUB_DISABLE_SYMLINKS_WARNING` environment variable. For more details, see https://huggingface.co/docs/huggingface_hub/how-to-cache#limitations.\n",
      "To support symlinks on Windows, you either need to activate Developer Mode or to run Python as an administrator. In order to activate developer mode, see this article: https://docs.microsoft.com/en-us/windows/apps/get-started/enable-your-device-for-development\n",
      "  warnings.warn(message)\n",
      "Map: 100%|██████████| 67/67 [00:01<00:00, 46.47 examples/s]\n",
      "Map: 100%|██████████| 20/20 [00:00<00:00, 44.74 examples/s]\n",
      "c:\\Users\\RoG\\anaconda3\\envs\\licenta\\lib\\site-packages\\transformers\\training_args.py:1575: FutureWarning: `evaluation_strategy` is deprecated and will be removed in version 4.46 of 🤗 Transformers. Use `eval_strategy` instead\n",
      "  warnings.warn(\n",
      "C:\\Users\\RoG\\AppData\\Local\\Temp\\ipykernel_36560\\397702562.py:75: FutureWarning: `tokenizer` is deprecated and will be removed in version 5.0.0 for `Trainer.__init__`. Use `processing_class` instead.\n",
      "  trainer = Trainer(\n",
      "c:\\Users\\RoG\\anaconda3\\envs\\licenta\\lib\\site-packages\\transformers\\models\\bart\\modeling_bart.py:496: UserWarning: 1Torch was not compiled with flash attention. (Triggered internally at ..\\aten\\src\\ATen\\native\\transformers\\cuda\\sdp_utils.cpp:263.)\n",
      "  attn_output = torch.nn.functional.scaled_dot_product_attention(\n"
     ]
    },
    {
     "data": {
      "text/html": [
       "\n",
       "    <div>\n",
       "      \n",
       "      <progress value='272' max='272' style='width:300px; height:20px; vertical-align: middle;'></progress>\n",
       "      [272/272 01:28, Epoch 8/8]\n",
       "    </div>\n",
       "    <table border=\"1\" class=\"dataframe\">\n",
       "  <thead>\n",
       " <tr style=\"text-align: left;\">\n",
       "      <th>Epoch</th>\n",
       "      <th>Training Loss</th>\n",
       "      <th>Validation Loss</th>\n",
       "    </tr>\n",
       "  </thead>\n",
       "  <tbody>\n",
       "    <tr>\n",
       "      <td>1</td>\n",
       "      <td>3.174300</td>\n",
       "      <td>2.709176</td>\n",
       "    </tr>\n",
       "    <tr>\n",
       "      <td>2</td>\n",
       "      <td>2.744000</td>\n",
       "      <td>2.481676</td>\n",
       "    </tr>\n",
       "    <tr>\n",
       "      <td>3</td>\n",
       "      <td>2.419500</td>\n",
       "      <td>2.411508</td>\n",
       "    </tr>\n",
       "    <tr>\n",
       "      <td>4</td>\n",
       "      <td>2.298000</td>\n",
       "      <td>2.366663</td>\n",
       "    </tr>\n",
       "    <tr>\n",
       "      <td>5</td>\n",
       "      <td>2.267900</td>\n",
       "      <td>2.350805</td>\n",
       "    </tr>\n",
       "    <tr>\n",
       "      <td>6</td>\n",
       "      <td>2.148000</td>\n",
       "      <td>2.342839</td>\n",
       "    </tr>\n",
       "    <tr>\n",
       "      <td>7</td>\n",
       "      <td>2.095100</td>\n",
       "      <td>2.320120</td>\n",
       "    </tr>\n",
       "    <tr>\n",
       "      <td>8</td>\n",
       "      <td>1.994500</td>\n",
       "      <td>2.317264</td>\n",
       "    </tr>\n",
       "  </tbody>\n",
       "</table><p>"
      ],
      "text/plain": [
       "<IPython.core.display.HTML object>"
      ]
     },
     "metadata": {},
     "output_type": "display_data"
    },
    {
     "name": "stderr",
     "output_type": "stream",
     "text": [
      "c:\\Users\\RoG\\anaconda3\\envs\\licenta\\lib\\site-packages\\transformers\\modeling_utils.py:2758: UserWarning: Moving the following attributes in the config to the generation config: {'early_stopping': True, 'num_beams': 4, 'no_repeat_ngram_size': 3, 'forced_bos_token_id': 0}. You are seeing this warning because you've set generation parameters in the model config, as opposed to in the generation config.\n",
      "  warnings.warn(\n",
      "There were missing keys in the checkpoint model loaded: ['model.encoder.embed_tokens.weight', 'model.decoder.embed_tokens.weight', 'lm_head.weight'].\n"
     ]
    },
    {
     "data": {
      "text/plain": [
       "('./results_taskC_bart\\\\tokenizer_config.json',\n",
       " './results_taskC_bart\\\\special_tokens_map.json',\n",
       " './results_taskC_bart\\\\vocab.json',\n",
       " './results_taskC_bart\\\\merges.txt',\n",
       " './results_taskC_bart\\\\added_tokens.json')"
      ]
     },
     "execution_count": 18,
     "metadata": {},
     "output_type": "execute_result"
    }
   ],
   "source": [
    "# TaskC_Train_BART.ipynb\n",
    "\n",
    "from transformers import BartTokenizer, BartForConditionalGeneration, Trainer, TrainingArguments\n",
    "from datasets import Dataset\n",
    "import pandas as pd\n",
    "import torch\n",
    "\n",
    "# 1. Load data\n",
    "train_df = pd.read_csv(\"../dataset/task_b+c/data/challenge_data/train.csv\")\n",
    "val_df = pd.read_csv(\"../dataset/task_b+c/data/challenge_data/valid.csv\")\n",
    "\n",
    "# 2. Prepare data\n",
    "train_df = train_df[['note', 'dialogue']].rename(columns={'note': 'input_text', 'dialogue': 'target_text'})\n",
    "val_df = val_df[['note', 'dialogue']].rename(columns={'note': 'input_text', 'dialogue': 'target_text'})\n",
    "\n",
    "train_df['input_text'] = \"Note: \" + train_df['input_text'] + \"\\n\\nGenerate a doctor-patient conversation:\"\n",
    "val_df['input_text'] = \"Note: \" + val_df['input_text'] + \"\\n\\nGenerate a doctor-patient conversation:\"\n",
    "\n",
    "# 3. HuggingFace dataset\n",
    "train_dataset = Dataset.from_pandas(train_df)\n",
    "val_dataset = Dataset.from_pandas(val_df)\n",
    "\n",
    "# 4. Load BART model and tokenizer\n",
    "model_name = \"facebook/bart-base\"\n",
    "tokenizer = BartTokenizer.from_pretrained(model_name)\n",
    "model = BartForConditionalGeneration.from_pretrained(model_name)\n",
    "\n",
    "# 5. Tokenize function\n",
    "def tokenize(example):\n",
    "    model_inputs = tokenizer(\n",
    "        example[\"input_text\"],\n",
    "        max_length=512,\n",
    "        truncation=True,\n",
    "        padding=\"max_length\"\n",
    "    )\n",
    "    labels = tokenizer(\n",
    "        example[\"target_text\"],\n",
    "        max_length=512,\n",
    "        truncation=True,\n",
    "        padding=\"max_length\"\n",
    "    )\n",
    "\n",
    "    # Important: mask PAD tokens in the labels\n",
    "    labels[\"input_ids\"] = [\n",
    "        token if token != tokenizer.pad_token_id else -100\n",
    "        for token in labels[\"input_ids\"]\n",
    "    ]\n",
    "    model_inputs[\"labels\"] = labels[\"input_ids\"]\n",
    "    return model_inputs\n",
    "\n",
    "# 6. Apply tokenization\n",
    "tokenized_train = train_dataset.map(tokenize)\n",
    "tokenized_val = val_dataset.map(tokenize)\n",
    "\n",
    "# 7. Training arguments\n",
    "training_args = TrainingArguments(\n",
    "    output_dir=\"./results_taskC_bart\",\n",
    "    evaluation_strategy=\"epoch\",\n",
    "    save_strategy=\"epoch\",\n",
    "    learning_rate=3e-5,\n",
    "    per_device_train_batch_size=2,\n",
    "    per_device_eval_batch_size=2,\n",
    "    num_train_epochs=8,\n",
    "    weight_decay=0.01,\n",
    "    logging_dir='./logs_taskC_bart',\n",
    "    logging_steps=10,\n",
    "    save_total_limit=2,\n",
    "    load_best_model_at_end=True,\n",
    "    metric_for_best_model=\"eval_loss\",\n",
    "    greater_is_better=False,\n",
    "    report_to=\"none\"\n",
    ")\n",
    "\n",
    "# 8. Trainer\n",
    "trainer = Trainer(\n",
    "    model=model,\n",
    "    args=training_args,\n",
    "    train_dataset=tokenized_train,\n",
    "    eval_dataset=tokenized_val,\n",
    "    tokenizer=tokenizer\n",
    ")\n",
    "\n",
    "# 9. Train\n",
    "trainer.train()\n",
    "\n",
    "# 10. Save the model\n",
    "model.save_pretrained(\"./results_taskC_bart\")\n",
    "tokenizer.save_pretrained(\"./results_taskC_bart\")\n"
   ]
  },
  {
   "cell_type": "code",
   "execution_count": 17,
   "id": "b1185bf9",
   "metadata": {},
   "outputs": [
    {
     "data": {
      "text/plain": [
       "('./results_taskC\\\\tokenizer_config.json',\n",
       " './results_taskC\\\\special_tokens_map.json',\n",
       " './results_taskC\\\\spiece.model',\n",
       " './results_taskC\\\\added_tokens.json')"
      ]
     },
     "execution_count": 17,
     "metadata": {},
     "output_type": "execute_result"
    }
   ],
   "source": [
    "model.save_pretrained(\"./results_taskC\")\n",
    "tokenizer.save_pretrained(\"./results_taskC\")\n"
   ]
  }
 ],
 "metadata": {
  "kernelspec": {
   "display_name": "licenta",
   "language": "python",
   "name": "python3"
  },
  "language_info": {
   "codemirror_mode": {
    "name": "ipython",
    "version": 3
   },
   "file_extension": ".py",
   "mimetype": "text/x-python",
   "name": "python",
   "nbconvert_exporter": "python",
   "pygments_lexer": "ipython3",
   "version": "3.10.13"
  }
 },
 "nbformat": 4,
 "nbformat_minor": 5
}

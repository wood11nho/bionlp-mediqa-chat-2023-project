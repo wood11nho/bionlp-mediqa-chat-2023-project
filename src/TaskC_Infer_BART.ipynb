{
 "cells": [
  {
   "cell_type": "code",
   "execution_count": 4,
   "id": "c6ee645f",
   "metadata": {},
   "outputs": [
    {
     "name": "stderr",
     "output_type": "stream",
     "text": [
      "c:\\Users\\RoG\\anaconda3\\envs\\licenta\\lib\\site-packages\\tqdm\\auto.py:21: TqdmWarning: IProgress not found. Please update jupyter and ipywidgets. See https://ipywidgets.readthedocs.io/en/stable/user_install.html\n",
      "  from .autonotebook import tqdm as notebook_tqdm\n",
      "c:\\Users\\RoG\\anaconda3\\envs\\licenta\\lib\\site-packages\\transformers\\models\\bart\\modeling_bart.py:496: UserWarning: 1Torch was not compiled with flash attention. (Triggered internally at ..\\aten\\src\\ATen\\native\\transformers\\cuda\\sdp_utils.cpp:263.)\n",
      "  attn_output = torch.nn.functional.scaled_dot_product_attention(\n"
     ]
    },
    {
     "name": "stdout",
     "output_type": "stream",
     "text": [
      "Note: The patient is a 45-year-old female presenting with shortness of breath, fatigue, and dizziness. Past medical history includes hypertension and mild asthma. She reports symptoms have worsened over the past 3 days. She's been having shortness and fatigue , fatigue , dizziness , and fatigue . . . i've been having some shortness in breath and fatigue and fatigue over the last 3 days , and she's been experiencing dizziness and fatigue for about three days . . .\" , , , and , , i'm sorry , but i'm not sure if this is a new symptom or if it's just a new one , but it's something that's been going on for a while . , and it's been getting worse over the weekend , and i'm really concerned about it , so i'm going to go ahead and tell you a little bit more about it . . , so , what's going on with you ? ? . . ? ? ? , ? , , ? . , , . , ? ? ... , , ... , . ? , . . or , , or , ? ... ? , or ? , ... ? . ? . or ? ? or , or ... ? ... . ? ... or ? . ... , or . . .. ? , i mean , it's ... it's like , it just keeps getting worse and worse , and then it just gets worse and it gets worse ? , like , , it really gets worse . , . and it really just starts getting worse . ... . . and , uh , i just ... i just can't think of anything to do with it . , you know , i feel like i'm just having a hard time breathing , and my chest hurts a lot , and I just feel like it's getting really tight , and the dizziness is just getting worse ... and worse ... . .\" . , i think it's because of , um , my asthma . , my , my . . uh , my\n"
     ]
    }
   ],
   "source": [
    "from transformers import BartTokenizer, BartForConditionalGeneration\n",
    "import torch\n",
    "\n",
    "model = BartForConditionalGeneration.from_pretrained(\"./results_taskC_bart\")\n",
    "tokenizer = BartTokenizer.from_pretrained(\"./results_taskC_bart\")\n",
    "device = torch.device(\"cuda\" if torch.cuda.is_available() else \"cpu\")\n",
    "model.to(device)\n",
    "\n",
    "def generate_dialogue(note):\n",
    "    prompt = \"Note: \" + note.strip() + \"\\n\\nGenerate a doctor-patient conversation:\"\n",
    "    inputs = tokenizer(prompt, return_tensors=\"pt\", max_length=512, truncation=True).to(device)\n",
    "    output = model.generate(inputs[\"input_ids\"], max_length=512, num_beams=4, early_stopping=True)\n",
    "    return tokenizer.decode(output[0], skip_special_tokens=True)\n",
    "\n",
    "# Test example\n",
    "note = \"\"\"\n",
    "The patient is a 45-year-old female presenting with shortness of breath, fatigue, and dizziness. Past medical history includes hypertension and mild asthma. She reports symptoms have worsened over the past 3 days.\n",
    "\"\"\"\n",
    "print(generate_dialogue(note))\n"
   ]
  },
  {
   "cell_type": "code",
   "execution_count": null,
   "id": "dc6a2056",
   "metadata": {},
   "outputs": [],
   "source": [
    "import re\n",
    "\n",
    "def clean_and_format_dialogue(raw_output):\n",
    "    # 1. Remove extra punctuation and artifacts\n",
    "    text = raw_output.strip()\n",
    "\n",
    "    # Remove sequences like , , , ... ? ? ? ... etc.\n",
    "    text = re.sub(r'([,?.])(\\s*\\1)+', r'\\1', text)\n",
    "    text = re.sub(r'\\.\\.+', '.', text)\n",
    "    text = re.sub(r',\\s*,+', ',', text)\n",
    "    text = re.sub(r'\\s{2,}', ' ', text)\n",
    "\n",
    "    # Remove filler words (optional)\n",
    "    text = re.sub(r'\\b(uh+|um+|like|you know)\\b', '', text, flags=re.IGNORECASE)\n",
    "\n",
    "    # Strip repeated filler at end\n",
    "    text = re.sub(r'(and it gets worse\\s*){2,}', 'and it gets worse.', text, flags=re.IGNORECASE)\n",
    "\n",
    "    # Remove spacing and punctuation\n",
    "    text = re.sub(r'\\s*([?.!,])\\s*', r'\\1 ', text)\n",
    "    text = text.strip()\n",
    "\n",
    "    # 2. Split into turns\n",
    "    lines = re.split(r'(?i)\\b(doctor|patient):', text)\n",
    "    dialogue = []\n",
    "    current_speaker = None\n",
    "\n",
    "    for chunk in lines:\n",
    "        chunk = chunk.strip()\n",
    "        if chunk.lower() in {\"doctor\", \"patient\"}:\n",
    "            current_speaker = chunk.capitalize()\n",
    "        elif current_speaker and chunk:\n",
    "            dialogue.append(f\"{current_speaker}: {chunk}\")\n",
    "            current_speaker = None  # reset speaker unless repeated\n",
    "\n",
    "    # 3. Return formatted text\n",
    "    return \"\\n\".join(dialogue) if dialogue else text\n"
   ]
  },
  {
   "cell_type": "code",
   "execution_count": null,
   "id": "62c71d74",
   "metadata": {},
   "outputs": [
    {
     "name": "stdout",
     "output_type": "stream",
     "text": [
      "Cleaned Dialogue:\n",
      "\n",
      "Note: The patient is a 45-year-old female presenting with shortness of breath, fatigue, and dizziness. Past medical history includes hypertension and mild asthma. She reports symptoms have worsened over the past 3 days. She's been having shortness and fatigue, fatigue, dizziness, and fatigue. i've been having some shortness in breath and fatigue and fatigue over the last 3 days, and she's been experiencing dizziness and fatigue for about three days. \", and, i'm sorry, but i'm not sure if this is a new symptom or if it's just a new one, but it's something that's been going on for a while. , and it's been getting worse over the weekend, and i'm really concerned about it, so i'm going to go ahead and tell you a little bit more about it. , so, what's going on with you? . ? , ? , ? . , . , ? . , . , . ? , . or, or, ? . ? , or? , . ? . ? . or? or, or. ? . ? . or? . , or. ? , i mean, it's. it's, it just keeps getting worse and worse, and then it just gets worse and it gets worse? , , it really gets worse. , . and it really just starts getting worse. and, , i just. i just can't think of anything to do with it. , , i feel  i'm just having a hard time breathing, and my chest hurts a lot, and I just feel  it's getting really tight, and the dizziness is just getting worse. and worse. \". , i think it's because of, , my asthma. , my, my. , my\n"
     ]
    }
   ],
   "source": [
    "raw = generate_dialogue(note)  \n",
    "cleaned = clean_and_format_dialogue(raw)\n",
    "print(\"Cleaned Dialogue:\\n\")\n",
    "print(cleaned)\n"
   ]
  },
  {
   "cell_type": "code",
   "execution_count": null,
   "id": "0e99eb57",
   "metadata": {},
   "outputs": [
    {
     "name": "stdout",
     "output_type": "stream",
     "text": [
      "Saved to generated_test_dialogues_bart.csv\n"
     ]
    }
   ],
   "source": [
    "import pandas as pd\n",
    "import re\n",
    "from transformers import BartTokenizer, BartForConditionalGeneration\n",
    "import torch\n",
    "\n",
    "# Load test dataset\n",
    "test_df = pd.read_csv(\"../dataset/task_b+c/data/challenge_data/clinicalnlp_taskC_test2.csv\")\n",
    "\n",
    "# Load fine-tuned BART model\n",
    "model_dir = \"./results_taskC_bart\"\n",
    "tokenizer = BartTokenizer.from_pretrained(model_dir)\n",
    "model = BartForConditionalGeneration.from_pretrained(model_dir)\n",
    "device = torch.device(\"cuda\" if torch.cuda.is_available() else \"cpu\")\n",
    "model.to(device)\n",
    "\n",
    "# Generate dialogue from note\n",
    "def generate_dialogue(note):\n",
    "    prompt = \"Note: \" + note.strip() + \"\\n\\nGenerate a doctor-patient conversation:\"\n",
    "    inputs = tokenizer(prompt, return_tensors=\"pt\", max_length=512, truncation=True).to(device)\n",
    "    output = model.generate(inputs[\"input_ids\"], max_length=512, num_beams=4, early_stopping=True)\n",
    "    return tokenizer.decode(output[0], skip_special_tokens=True)\n",
    "\n",
    "# Clean and tag speaker turns with guaranteed newlines\n",
    "def clean_and_tag_dialogue(raw_output):\n",
    "    text = raw_output.strip()\n",
    "\n",
    "    # Normalize repeated punctuation and whitespace\n",
    "    text = re.sub(r'([,?.])(\\s*\\1)+', r'\\1', text)\n",
    "    text = re.sub(r'\\.\\.+', '.', text)\n",
    "    text = re.sub(r',\\s*,+', ',', text)\n",
    "    text = re.sub(r'\\s{2,}', ' ', text)\n",
    "    text = re.sub(r'\\b(uh+|um+|like|you know)\\b', '', text, flags=re.IGNORECASE)\n",
    "    text = re.sub(r'(and it gets worse\\s*){2,}', 'and it gets worse.', text, flags=re.IGNORECASE)\n",
    "    text = re.sub(r'\\s*([?.!,])\\s*', r'\\1 ', text)\n",
    "    text = text.strip()\n",
    "\n",
    "    # Force newlines between speaker turns (even if jammed together)\n",
    "    text = re.sub(r'(?i)(doctor|patient)\\s*:', r'\\n<\\1> ', text)\n",
    "    text = re.sub(r'\\n+', '\\n', text)  \n",
    "    text = re.sub(r' +', ' ', text) \n",
    "\n",
    "    return text.strip()\n",
    "\n",
    "# Run generation for all test notes\n",
    "generated_dialogues = []\n",
    "for note in test_df[\"note\"]:\n",
    "    raw = generate_dialogue(note)\n",
    "    cleaned = clean_and_tag_dialogue(raw)\n",
    "    generated_dialogues.append(cleaned)\n",
    "\n",
    "# Save to CSV\n",
    "test_df[\"generated_dialogue\"] = generated_dialogues\n",
    "test_df.to_csv(\"generated_test_dialogues_bart.csv\", index=False)\n",
    "print(\"Saved to generated_test_dialogues_bart.csv\")\n"
   ]
  }
 ],
 "metadata": {
  "kernelspec": {
   "display_name": "licenta",
   "language": "python",
   "name": "python3"
  },
  "language_info": {
   "codemirror_mode": {
    "name": "ipython",
    "version": 3
   },
   "file_extension": ".py",
   "mimetype": "text/x-python",
   "name": "python",
   "nbconvert_exporter": "python",
   "pygments_lexer": "ipython3",
   "version": "3.10.13"
  }
 },
 "nbformat": 4,
 "nbformat_minor": 5
}

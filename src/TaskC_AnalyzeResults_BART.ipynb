{
 "cells": [
  {
   "cell_type": "code",
   "execution_count": 1,
   "id": "61d89019",
   "metadata": {},
   "outputs": [
    {
     "name": "stdout",
     "output_type": "stream",
     "text": [
      "Loaded 40 examples.\n"
     ]
    },
    {
     "data": {
      "text/markdown": [
       "### Clinical Note:\n",
       "```\n",
       "CHIEF COMPLAINT\r\n",
       "\r\n",
       "Back pain.\r\n",
       "\r\n",
       "MEDICAL HISTORY\r\n",
       "\r\n",
       "Patient reports history of diabetes.\r\n",
       "\r\n",
       "SOCIAL HISTORY\r\n",
       "\r\n",
       "The patient's family owns and runs a bakery.\r\n",
       "\r\n",
       "MEDICATIONS\r\n",
       "\r\n",
       "Patient reports taking metformin twice daily.\r\n",
       "\r\n",
       "REVIEW OF SYSTEMS\r\n",
       "\r\n",
       "Musculoskeletal: Reports back pain.\r\n",
       "Neurological: Denies numbness or tingling in feet.\r\n",
       "\r\n",
       "PHYSICAL EXAM\r\n",
       "\r\n",
       "Eyes\r\n",
       "- Examination: No redness, discharge, or icterus.\r\n",
       "\r\n",
       "Ears, Nose, Mouth, and Throat\r\n",
       "- Examination of Ears: Auditory canal and tympanic membranes are clear.\r\n",
       "\r\n",
       "Respiratory\r\n",
       "- Auscultation of Lungs: Clear bilaterally.\r\n",
       "\r\n",
       "Cardiovascular\r\n",
       "- Auscultation of Heart: Regular rate and rhythm.\r\n",
       "Musculoskeletal\r\n",
       "- Examination: No pain to palpation of the upper back. Pain to palpation of the midline of the lower back, especially on the left. No pain to palpation on the right lower back. Mildly positive straight leg rise on the right Positive straight leg rise on the left.\r\n",
       "\r\n",
       "ASSESSMENT AND PLAN\r\n",
       "\r\n",
       "1. Low back pain.\r\n",
       "- Medical Reasoning: I believe he has a musculoskeletal low back strain. I do not expect to see anything significant on x-ray, but we will obtain one for further evaluation of any possible disc issues.\r\n",
       "- Patient Education and Counseling: We discussed his diagnosis at length today. I explained that physical therapy can help with the pain, but also strengthen some of the muscles in the back. I explained that he needs to be careful while taking medications, such as an overuse of muscle relaxers if he is doing any strenuous or hazardous activities such as driving.\r\n",
       "- Medical Treatment: Low back x-ray ordered. Referral to physical therapy provided. He will take 400 mg of ibuprofen up to 3 times per day. Tylenol can be used for severe pain. Prescription for Flexeril also provided.\r\n",
       "\r\n",
       "2. Diabetes.\r\n",
       "- Medical Reasoning: His diabetes is currently under control.\r\n",
       "- Patient Education and Counseling: We discussed the importance of maintaining a healthy lifestyle. I encouraged him to try an avoid foods high in sugar. He asked many questions and I feel he is confident in the plan at this point.\r\n",
       "- Medical Treatment: Hemoglobin A1c ordered as he has not had an updated one in almost 5 months. He will continue with his diet and exercise. Continue current dose of metformin for the time being. The patient will be checking his blood sugar in the morning and will log this information for me.\r\n",
       "\r\n",
       "Patient Agreements: The patient understands and agrees with the recommended medical treatment plan.\n",
       "```"
      ],
      "text/plain": [
       "<IPython.core.display.Markdown object>"
      ]
     },
     "metadata": {},
     "output_type": "display_data"
    },
    {
     "data": {
      "text/markdown": [
       "### Generated Dialogue:\n",
       "```\n",
       "[doctor] hi dax. how are you? [patient] i'm doing okay. i'm having some back pain. i've been having back pain for about a week now. i think it's been going on for about two weeks now. and i'm taking metformin twice daily to help with the pain. and then i take some tympanum twice a day to help alleviate some of the pain and then when i get home from work i feel a little numb and tingling in my feet and then it goes away. and when i go to bed at night i feel i'm asleep. and it's just going on and on and it gets worse and worse over the night and it just gets worse over night and night. and sometimes it's even worse when i wake up in the morning and i get up and go to the bathroom and it hurts a little bit but it's not it's really bothering me at all. and if i get out of bed it's probably because i'm trying to get ready for bed and i have to get up to go to my bed and get ready because i have a lot of pain in my back and my legs and my back hurts a lot when i'm driving. and my feet hurt a lot too. and the back pain is really just a little sore on my feet but it gets better over the day and night when i sit down and i do n't feel it hurts at all i'm just sitting there and i just feel my feet are hurting and i can't get to my feet. and what's going on with my back (doctor] mm-hmm. and any pain to palpation of the midline of the lower back or on the right side of the back? and any numbness in the feet or anything that? and then on the left side of my back when i stand up or when i walk i feel numb. and on the inside of my feet it hurts a lot. and in the back of my legs sometimes it hurts to palpate the lower part of my lower back. and occasionally it hurts in the middle of the night when I sit down to eat. and that's when i start to feel the pain starts to go away. - okay. and do you have any other problems with your back? or any other injuries to your back your back or your legs or your feet\n",
       "```"
      ],
      "text/plain": [
       "<IPython.core.display.Markdown object>"
      ]
     },
     "metadata": {},
     "output_type": "display_data"
    },
    {
     "name": "stdout",
     "output_type": "stream",
     "text": [
      "\n",
      "================================================================================\n",
      "\n"
     ]
    },
    {
     "data": {
      "text/markdown": [
       "### Clinical Note:\n",
       "```\n",
       "CHIEF COMPLAINT\r\n",
       "\r\n",
       "Bilateral knee pain.\r\n",
       "\r\n",
       "HISTORY OF PRESENT ILLNESS\r\n",
       "\r\n",
       "Sophia Jackson is a pleasant 30-year-old female who presents to the clinic today for the evaluation of bilateral knee pain. She was referred by her primary care provider. The onset of her pain began 6 months ago. She denies any specific injury. The patient describes her pain as a deep, achy pain. She locates her pain to the posterior aspect of her patellae. The patient also reports “creaking” in her knees. She denies any swelling or redness in her knees. Her pain is aggravated by transitioning from a seated position to standing as well as ascending and descending stairs. Her pain is alleviated by rest. The patient has been icing her knees and wrapping her knees with an ACE bandage. She also takes ibuprofen or Aleve occasionally for pain. She states she tries to be as active as she can. She enjoys running outdoors. The patient adds that she would run 5 to 6 miles per day; however, she is unable to go 0.5 miles secondary to the pain. She denies any previous injuries to her knees.\r\n",
       "\r\n",
       "She works from home.\r\n",
       "\r\n",
       "MEDICAL HISTORY\r\n",
       "\r\n",
       "Patient reports history of an upper extremity fracture when she was in 6th grade.\r\n",
       "\r\n",
       "REVIEW OF SYSTEMS\r\n",
       "\r\n",
       "Musculoskeletal: Reports bilateral knee pain and crepitus. Denies swelling or redness in the bilateral knees.\r\n",
       "\r\n",
       "VITALS\r\n",
       "\r\n",
       "All vital signs are within the normal limits.\r\n",
       "\r\n",
       "PHYSICAL EXAM\r\n",
       "\r\n",
       "GAIT: Normal, no deformity present.\r\n",
       "CV: Auscultation of Heart: Regular rate and rhythm. No murmurs.\r\n",
       "No edema\r\n",
       "NEURO: Patella and Achilles reflexes are symmetrical.\r\n",
       "MSK: Examination of the bilateral lower extremities: Abduction strength is 3/5. Remainder of muscle strength is 5/5. Examination of the bilateral knees: No overlying erythema, ecchymosis, or warmth of the skin appreciated. No effusion. Tenderness to palpation of the bilateral retinaculum. Positive patellar grind test. Knee pain with squatting. Negative Lachman test bilaterally. Negative anterior and posterior drawer tests bilaterally. Negative McMurray test bilaterally.\r\n",
       "\r\n",
       "RESULTS\r\n",
       "\r\n",
       "X-rays of the bilateral knees were reviewed today. These demonstrate no evidence of any fractures or osteoarthritis.\r\n",
       "\r\n",
       "ASSESSMENT\r\n",
       "\r\n",
       "Bilateral knee patellofemoral pain syndrome.\r\n",
       "\r\n",
       "PLAN\r\n",
       "\r\n",
       "After reviewing the patient's examination and radiographic findings today, I have had a lengthy discussion with the patient regarding her current symptoms. I have explained to her that her symptoms are consistent with patellofemoral pain syndrome. We discussed treatment options and I have recommended that we begin with conservative treatment in the form of formal physical therapy to increase her lower extremity strength, mobility, and correct any incorrect running mechanics. I encouraged her to take running easy for now. She can continue taking ibuprofen or anti-inflammatories as needed for pain. All questions were answered.\r\n",
       "\r\n",
       "INSTRUCTIONS\r\n",
       "\r\n",
       "The patient will follow up with me soon.\n",
       "```"
      ],
      "text/plain": [
       "<IPython.core.display.Markdown object>"
      ]
     },
     "metadata": {},
     "output_type": "display_data"
    },
    {
     "data": {
      "text/markdown": [
       "### Generated Dialogue:\n",
       "```\n",
       "[doctor] hi sophia. how are you? [patient] i'm doing okay. i'm just having some knee pain. i've been having some pain in my knees for about six months now. [doctor]: okay. so sophia is a pleasant 30-year-old female who presents to the clinic today for the evaluation of bilateral knee pain. she was referred by her primary care provider for the knee pain, and she told me about it. she said that it started about 6 months ago. so, what happened to it? she said it started six months ago, and it's been going on for six months since then. she says it's just been a deep achy pain. she locates her pain to the posterior aspect of her patellae. the patient also reports “creaking” in her knees. she denies any swelling or redness in your knees. her pain is aggravated by transitioning from a seated position to standing as well as ascending and descending stairs. she has been icing her knees and wrapping her knees with an ACE bandage. she also takes ibuprofen or Aleve occasionally for pain. and she does n't take anything for the pain. but, i do n't know if it's because of the pain or if it started because of it, , , the pain is just a little achy. and, i know that you've been doing a lot of running outdoors, but it's kind of hard to get out of the house, so, i'm trying to be as active as i can. i try to run 5 to 6 miles per day, but i'm unable to go 0. 5 miles a day, so it's a little bit of a pain in both of my knees, but, it's mostly just the pain in the back of my legs. i just try to stay away from the stairs, and when i do go up and down stairs, it gets a little more painful. and then when i go down, it just gets worse and worse. and i'm able to go down a few stairs, but my knees are just achy and achy, and i can't go down the stairs without icing my knees. so i'm not able to do anything about it, and then i have to sit down, and that's when i get a little sore. (doctor] okay. and what kind of injuries have you had to deal with before? so, your knees have been\n",
       "```"
      ],
      "text/plain": [
       "<IPython.core.display.Markdown object>"
      ]
     },
     "metadata": {},
     "output_type": "display_data"
    },
    {
     "name": "stdout",
     "output_type": "stream",
     "text": [
      "\n",
      "================================================================================\n",
      "\n"
     ]
    },
    {
     "data": {
      "text/markdown": [
       "### Clinical Note:\n",
       "```\n",
       "CHIEF COMPLAINT\r\n",
       "\r\n",
       "Non-healing right foot ulcer.\r\n",
       "\r\n",
       "HISTORY OF PRESENT ILLNESS\r\n",
       "\r\n",
       "Christina Cooper is a pleasant 77-year-old female who presents to the clinic today for the evaluation of a non-healing right foot ulcer. The onset of her wound began 1 year ago with no specific injury. The patient states that it seemed like a blister and she picked at it where it then turned red. The patient was seen by her primary care physician and was prescribed Keflex. She states that the antibiotics improved her symptoms, however they did not resolve them. The patient adds that she was last on Keflex 5 months ago. She denies any pain, however she reports decreased sensation in her foot. The patient also reports increased drainage and fatigue. She states that she has been wearing her regular shoes.\r\n",
       "\r\n",
       "The patient has type 2 diabetes with neuropathy. She states that her blood sugars are running better than they were; however, they are still in the 200's. Her last hemoglobin A1C was 10.\r\n",
       "\r\n",
       "REVIEW OF SYSTEMS\r\n",
       "\r\n",
       "Constitutional: Reports fatigue.\r\n",
       "Skin: Reports right foot ulcer and drainage.\r\n",
       "\r\n",
       "VITALS\r\n",
       "\r\n",
       "No fever noted. Vitals look good today.\r\n",
       "\r\n",
       "PHYSICAL EXAM\r\n",
       "\r\n",
       "MSK: Examination of the right foot: There is a 1.0 cm x 2.0 cm wound on the dorsal aspect of the lateral right foot, just proximal to the 5th MTP joint. I do see some yellow slough that is present with minimal granulation tissue. No surrounding erythema or cellulitis. There is no evidence of fluid collection. I do not see necrosis. No odor. I do not appreciate any bony exposure. No pain to palpation.\r\n",
       "\r\n",
       "RESULTS\r\n",
       "\r\n",
       "X-ray of the right foot today reveals no evidence of osteomyelitis.\r\n",
       "\r\n",
       "ASSESSMENT\r\n",
       "\r\n",
       "Right diabetic foot ulcer.\r\n",
       "\r\n",
       "PLAN\r\n",
       "\r\n",
       "I have recommended that we obtain an ankle brachial index to determine her blood supply to see if we can heal the wound. We discussed doing a debridement in office today, which she agreed to. I have also recommended that the patient be placed in a surgical shoe to provide increased support. I have also prescribed the patient collagenase ointment to apply to her wound 1 time per day and cover it with a sterile dressing. I advised the patient that this should be continued until we see the ulcer decrease in size.\r\n",
       "\r\n",
       "INSTRUCTIONS\r\n",
       "\r\n",
       "The patient will follow up with me in 2 weeks to check on her progress.\n",
       "```"
      ],
      "text/plain": [
       "<IPython.core.display.Markdown object>"
      ]
     },
     "metadata": {},
     "output_type": "display_data"
    },
    {
     "data": {
      "text/markdown": [
       "### Generated Dialogue:\n",
       "```\n",
       "[doctor] christina cooper is a 77-year-old female here for the evaluation of a non-healing right foot ulcer. [patient] so christina is a female with type 2 diabetes with neuropathy who presents to the clinic today for an evaluation of an ulcer. she's a 77 year-old male with type two diabetes who presents here for a medical exam. she is a patient here for an examination of a right foot that has a red spot on it. she says that it seemed a blister and she picked at it where it then turned red. she said that it was a red blister. she picked it up and then it turned red and then she said it was red. and then i went to my primary care physician and they prescribed keflex. and they said that the antibiotics improved her symptoms, however they did not resolve them. (patient) okay. so, what happened to the ulcer? i was last on Keflex five months ago. and i was on it for about a year and a half and i've been wearing my regular shoes, but i've noticed some decreased sensation in my foot in the last couple of days. i noticed a little bit of a redness in my right foot. i thought it was just a little red. i mean, i noticed it when i was first on it, but it turned back red. so i was prescribed the antibiotics, but they did nothing to resolve it. i'm still in the 200's, so i'm not sure if that's because of that, or because of the antibiotics. [patient][doctor] okay. and have you been wearing your regular shoes since then? or have you noticed any fatigue? or any pain in your foot? or anything that? i've n't noticed any pain at all in the foot, but the swelling is still running better than it was when i first started on them. i do see some yellow slough that is present with minimal granulation tissue. i have n't seen any swelling in my feet since then. i know that you were last on them, but that's not what i'm concerned about. i think it's just that the swelling has been going down a little, but nothing it's been going on for a year or so. i just noticed it red and it started to turn red, and i picked it at it and it then started turning red again. i was, , red\n",
       "```"
      ],
      "text/plain": [
       "<IPython.core.display.Markdown object>"
      ]
     },
     "metadata": {},
     "output_type": "display_data"
    },
    {
     "name": "stdout",
     "output_type": "stream",
     "text": [
      "\n",
      "================================================================================\n",
      "\n"
     ]
    },
    {
     "data": {
      "text/markdown": [
       "### Clinical Note:\n",
       "```\n",
       "CHIEF COMPLAINT\r\n",
       "\r\n",
       "Follow-up.\r\n",
       "\r\n",
       "MEDICAL HISTORY\r\n",
       "\r\n",
       "Patient reports having a heart attack 6 months ago, coronary artery disease, diabetes.\r\n",
       "\r\n",
       "SURGICAL HISTORY\r\n",
       "\r\n",
       "Patient reports history of stent placement at the left anterior descending artery.\r\n",
       "\r\n",
       "SOCIAL HISTORY\r\n",
       "\r\n",
       "Patient reports that he is from the west coast and is a San Francisco 49ers fan. He lives with his dog.\r\n",
       "\r\n",
       "MEDICATIONS\r\n",
       "\r\n",
       "Patient reports taking aspirin, Brilinta, fish oil, Crestor, metoprolol 50 mg once a day,\r\n",
       "\r\n",
       "REVIEW OF SYSTEMS\r\n",
       "\r\n",
       "Musculoskeletal: Reports non-pitting lower extremity edema. Denies muscle aches.\r\n",
       "Neurological: Reports dizziness and headaches.\r\n",
       "Psychiatric: Reports depression. Denies suicidal ideation or homicidal ideation.\r\n",
       "\r\n",
       "VITALS\r\n",
       "\r\n",
       "Vital signs look good with blood pressure of 127/80.\r\n",
       "\r\n",
       "PHYSICAL EXAM\r\n",
       "\r\n",
       "Neck\r\n",
       "- General Examination: No jugular venous distention or carotid bruits.\r\n",
       "\r\n",
       "Respiratory\r\n",
       "- Assessment of Respiratory Effort: Normal respiratory effort.\r\n",
       "- Auscultation of Lungs: Clear bilaterally. No wheezes, rales, or rhonchi.\r\n",
       "\r\n",
       "Cardiovascular\r\n",
       "- Auscultation of Heart: Slight, 3/6 systolic ejection murmur heard at the left base.\r\n",
       "\r\n",
       "Musculoskeletal\r\n",
       "- Examination: 1+ non-pitting lower extremity edema.\r\n",
       "\r\n",
       "RESULTS\r\n",
       "\r\n",
       "Lab results are reviewed and show stable a creatinine level.\r\n",
       "\r\n",
       "ASSESSMENT AND PLAN\r\n",
       "\r\n",
       "1. Coronary artery disease.\r\n",
       "- Medical Reasoning: The patient is doing very well and has been compliant with all medications. A slight 3/6 ejection murmur was heard on exam, however, this is stable and has been present in the past. He is experiencing 1+ non-pitting edema, but this seems to be medication related.\r\n",
       "\r\n",
       "- Patient Education and Counseling: Patient was advised that his stents will remain in place permanently and that they typically do not require replacement. We discussed it is common to experience dizziness when standing quickly and that this should resolve once he is adjusted to his medications. We also discussed that cardiac rehab will be beneficial in helping him become more active and confident with exercising. He was advised to watch for symptoms such as chest pain or shortness of breath on exertion as this would need further testing such as a stress test.\r\n",
       "- Medical Treatment: Referral to cardiac rehab was provided. A refill for metoprolol 50 mg once a day and Crestor 40 mg once a day was also provided. He is also advised to continue aspirin daily long term as well as Brilinta for the next 6 months.\r\n",
       "\r\n",
       "2. Stage 3 chronic kidney disease.\r\n",
       "- Medical Reasoning: Patient's most recent creatinine levels are stable.\r\n",
       "- Patient Education and Counseling: We discussed the importance of following up with nephrology.\r\n",
       "- Medical Treatment: He will follow up with his nephrologist, Dr. Miller.\r\n",
       "\r\n",
       "3. Diabetes.\r\n",
       "- Medical Reasoning: Patient reports most recent hemoglobin A1c was 16.\r\n",
       "- Patient Education and Counseling: We discussed the importance of diabetes management and how plays an important role in his coronary artery disease. He was advised that his hemoglobin A1c goal will be 6.\r\n",
       "- Medical Treatment: Repeat hemoglobin A1c was ordered today. A dietitian referral for diabetes education was also provided. We will contact his primary care physician regarding his insulin regimen.\r\n",
       "\r\n",
       "4. Mild depression:\r\n",
       "- Medical Reasoning: Patient reports feeling depressed and having a hard time adjusting since having his heart attack. He mentions he is also lonely and does not have a support system.\r\n",
       "- Medical Treatment: Referral to psychiatry was provided today.\r\n",
       "\r\n",
       "Patient Agreements: The patient understands and agrees with the recommended medical treatment plan.\n",
       "```"
      ],
      "text/plain": [
       "<IPython.core.display.Markdown object>"
      ]
     },
     "metadata": {},
     "output_type": "display_data"
    },
    {
     "data": {
      "text/markdown": [
       "### Generated Dialogue:\n",
       "```\n",
       "[doctor] hi dax. how are you? [patient] i'm doing very well. [doctor]: i'm good. i'm just having a heart attack six months ago, coronary artery disease, diabetes. so i'm having a little heart attack 6 months ago and i had to have a stent placement at the left anterior descending artery. so, i've been having some problems with my blood pressure and my cholesterol and triglycerides but i'm not sure what's going on with that because i'm from the west coast and i'm a San Francisco 49ers fan and i to watch the 49ers games and i love to watch them but i have a little bit of a problem with my cholesterol because i have high cholesterol and high triglycerides and my triglycerides are high and i have to take a lot of medications to get my cholesterol up to the high level of normal, but i do n't know if that's related to the heart attack or if it's just medication related or something that but i think it's something that's just going on in my body and i just need to get it under control and i'll be able to get some relief from it and then i can go back to my normal routine of taking my medications and taking my heart medication and i can feel my heart rate going up and down but i still have some muscle aches and headaches and i feel i'm going to have to go to the bathroom and take some ibuprofen but i can't do that because my heart is really high and it's really hard to breathe so i just have to stay in bed and take my medication and then when i wake up i'll go to bed and i will take my aspirin and i take my tylenol and i go to sleep and i do to sleep but when i get up i get really dizzy and my headache gets really bad and my headaches get worse and worse and i start to get really nauseous and my fever gets really high so i try to stay asleep but i just can't get to sleep because i just feel I'm in a really bad mood and i want to get out of bed and get some rest (doctor] okay. and then what about your blood pressure? how is it doing with your heart and your cholesterol and your triglycerides? how are your blood pressures doing\n",
       "```"
      ],
      "text/plain": [
       "<IPython.core.display.Markdown object>"
      ]
     },
     "metadata": {},
     "output_type": "display_data"
    },
    {
     "name": "stdout",
     "output_type": "stream",
     "text": [
      "\n",
      "================================================================================\n",
      "\n"
     ]
    },
    {
     "data": {
      "text/markdown": [
       "### Clinical Note:\n",
       "```\n",
       "CHIEF COMPLAINT\r\n",
       "\r\n",
       "Rheumatoid arthritis management.\r\n",
       "\r\n",
       "HISTORY OF PRESENT ILLNESS\r\n",
       "\r\n",
       "Mr. Nelson is a 72-year-old male who presents today for ongoing management of rheumatoid arthritis. He was last seen by me on 03/04/2021, where he received a steroid injection to his right knee. He continues to experience right knee pain and swelling. The pain level is 6/10. He notes when he stands after he has been sitting for a while, he has to use a cane to \"get his bearings.\" The injection he received to the right knee at the last visit was only beneficial for a few weeks. The patient notes whole right leg swelling since the last visit. He usually wears support hose, which helps to some degree. He has not attended physical therapy.\r\n",
       "\r\n",
       "PHYSICAL EXAM\r\n",
       "\r\n",
       "Musculoskeletal\r\n",
       "Lower right extremity: Swollen right knee, slightly reduced range of motion. Skin warm to touch. Lower right leg pits with pressure.\r\n",
       "\r\n",
       "PROCEDURE\r\n",
       "\r\n",
       "Fluid aspiration and Steroid injection.\r\n",
       "Risks, benefits, and alternatives were explained. The risks of steroid injection were explained, including but not limited to, hypopigmentation, soft tissue atrophy, tendon ruptures, and transient hyperglycemia among others. Verbal consent was obtained. The right knee was accessed through the lateral approach with 3 mL of initially clear fluid then blood-tinged fluid. Then the right knee was prepped in a standard fashion. The right knee was injected with 80 mg triamcinolone and 1 mL lidocaine. The procedure was tolerated well with no complications. Post procedure instructions were given.\r\n",
       "\r\n",
       "ASSESSMENT\r\n",
       "\r\n",
       "• Rheumatoid arthritis management.\r\n",
       "• High risk medication use.\r\n",
       "• Right knee pain.\r\n",
       "• Lower extremity pitting edema.\r\n",
       "\r\n",
       "PLAN\r\n",
       "\r\n",
       "Rheumatoid arthritis management.\r\n",
       "The patient will continue Xeljanz XR 11 mg daily. He will also continue Celebrex 200 mg daily.\r\n",
       "\r\n",
       "High-risk medication use.\r\n",
       "The patient is currently on the high-risk medication Xeljanz. We will check his CMP levels and monitor periodically every couple of months.\r\n",
       "\r\n",
       "Right knee pain.\r\n",
       "He has right knee pain and swelling, with pain level 6/10. On exam today, the right knee continues to be hot, which is ongoing inflammation. We performed a fluid aspiration of the right knee today, see procedure note above. A steroid injection to the right knee was given today, see procedure note above. We will arrange for x-ray of the right knee and refer his to physical therapy.\r\n",
       "\r\n",
       "Lower extremity pitting edema.\r\n",
       "The patient notes whole right leg swelling since the last visit. He usually wears support hose, which helps to some degree. He has not seen his PCP. We discussed compression stockings, elevate feet, and a low salt diet. He will check with his PCP for further instructions.\n",
       "```"
      ],
      "text/plain": [
       "<IPython.core.display.Markdown object>"
      ]
     },
     "metadata": {},
     "output_type": "display_data"
    },
    {
     "data": {
      "text/markdown": [
       "### Generated Dialogue:\n",
       "```\n",
       "[doctor] hi, mr. Nelson. how are you? [patient] i'm doing okay. how about you? how are your knee? [doctor]: i'm good. i'm glad to see you. how's your right knee? i've been sitting for a while now, but i have to use a cane to get my bearings. so, i'm sorry to hear that you're having some knee pain and swelling, but it's been going on for about a couple of weeks now. i've had a steroid injection to my right knee at the last visit, and it helped a little bit, but the pain level is still a little high. (doctor] okay. and how long have you been sitting? and have you had any pain in your knee since the last time i saw you? i mean, , about a week and a half ago. and it's just been bothering me for a little while now. and, , i've noticed a lot of pain in my knee, and i think it's because i'm sitting on a cane, and when i stand, it hurts to get around. and i've used a support hose, which helps to some degree, but when i sit, it's a little sore. and then when i get up, i use a walker to get to my feet. and sometimes it hurts for a few weeks, and then it gets better. and finally, i can get up and go to the bathroom, but that's about it. and so, , i do n't go to physical therapy anymore. i just sit on a stool, and that's it. i try to get off the stool, but sometimes i just have to sit down, and the pain gets a little worse. and the other times it gets worse and worse. i do have to walk around a lot, and sometimes i even have to put a cane on it, but nothing helps at all. and when you stand, you have to stand, and you can use a walking stick to get your bearings. and if you're able to walk, you can do that, but if you can't walk, that's okay.\n",
       "```"
      ],
      "text/plain": [
       "<IPython.core.display.Markdown object>"
      ]
     },
     "metadata": {},
     "output_type": "display_data"
    },
    {
     "name": "stdout",
     "output_type": "stream",
     "text": [
      "\n",
      "================================================================================\n",
      "\n"
     ]
    }
   ],
   "source": [
    "import pandas as pd\n",
    "import random\n",
    "from IPython.display import Markdown, display\n",
    "\n",
    "# 1. Load generated results\n",
    "df = pd.read_csv(\"generated_test_dialogues_bart.csv\")\n",
    "print(f\"Loaded {len(df)} examples.\")\n",
    "\n",
    "# 2. Inspect random sample\n",
    "def show_random_examples(n=5):\n",
    "    samples = df.sample(n)\n",
    "    for _, row in samples.iterrows():\n",
    "        note = row['note']\n",
    "        dialogue = row['generated_dialogue']\n",
    "        display(Markdown(f\"### Clinical Note:\\n```\\n{note.strip()}\\n```\"))\n",
    "        display(Markdown(f\"### Generated Dialogue:\\n```\\n{dialogue.strip()}\\n```\"))\n",
    "        print(\"\\n\" + \"=\"*80 + \"\\n\")\n",
    "\n",
    "show_random_examples(5)\n",
    "\n",
    "# 3. Save dialogues to individual .txt files\n",
    "import os\n",
    "os.makedirs(\"dialogue_outputs\", exist_ok=True)\n",
    "\n",
    "for idx, row in df.iterrows():\n",
    "    with open(f\"dialogue_outputs/dialogue_{idx:04d}.txt\", \"w\", encoding=\"utf-8\") as f:\n",
    "        f.write(\"<note>\\n\")\n",
    "        f.write(row['note'].strip() + \"\\n\\n\")\n",
    "        f.write(\"<generated_dialogue>\\n\")\n",
    "        f.write(row['generated_dialogue'].strip() + \"\\n\")\n"
   ]
  },
  {
   "cell_type": "code",
   "execution_count": 2,
   "id": "5edbe734",
   "metadata": {},
   "outputs": [
    {
     "name": "stdout",
     "output_type": "stream",
     "text": [
      "Scored file saved to generated_test_dialogues_scored.csv\n",
      "Avg BLEU: 0.0143, Avg ROUGE-L: 0.1635\n"
     ]
    }
   ],
   "source": [
    "from nltk.translate.bleu_score import sentence_bleu, SmoothingFunction\n",
    "from rouge_score import rouge_scorer\n",
    "import pandas as pd\n",
    "\n",
    "df = pd.read_csv(\"generated_test_dialogues_bart.csv\")\n",
    "\n",
    "scorer = rouge_scorer.RougeScorer(['rougeL'], use_stemmer=True)\n",
    "smooth = SmoothingFunction().method4\n",
    "\n",
    "bleu_scores = []\n",
    "rouge_l_scores = []\n",
    "\n",
    "for _, row in df.iterrows():\n",
    "    reference = row['dialogue'].strip().split()\n",
    "    prediction = row['generated_dialogue'].strip().split()\n",
    "\n",
    "    bleu = sentence_bleu([reference], prediction, smoothing_function=smooth)\n",
    "    rouge_l = scorer.score(row['dialogue'], row['generated_dialogue'])['rougeL'].fmeasure\n",
    "\n",
    "    bleu_scores.append(bleu)\n",
    "    rouge_l_scores.append(rouge_l)\n",
    "\n",
    "df['bleu'] = bleu_scores\n",
    "df['rougeL'] = rouge_l_scores\n",
    "\n",
    "df.to_csv(\"generated_test_dialogues_scored.csv\", index=False)\n",
    "print(\"Scored file saved to generated_test_dialogues_scored.csv\")\n",
    "print(f\"Avg BLEU: {sum(bleu_scores)/len(bleu_scores):.4f}, Avg ROUGE-L: {sum(rouge_l_scores)/len(rouge_l_scores):.4f}\")\n"
   ]
  }
 ],
 "metadata": {
  "kernelspec": {
   "display_name": "licenta",
   "language": "python",
   "name": "python3"
  },
  "language_info": {
   "codemirror_mode": {
    "name": "ipython",
    "version": 3
   },
   "file_extension": ".py",
   "mimetype": "text/x-python",
   "name": "python",
   "nbconvert_exporter": "python",
   "pygments_lexer": "ipython3",
   "version": "3.10.13"
  }
 },
 "nbformat": 4,
 "nbformat_minor": 5
}

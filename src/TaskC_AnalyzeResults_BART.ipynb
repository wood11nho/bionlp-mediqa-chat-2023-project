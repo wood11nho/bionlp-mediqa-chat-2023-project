{
 "cells": [
  {
   "cell_type": "code",
   "execution_count": 1,
   "id": "61d89019",
   "metadata": {},
   "outputs": [
    {
     "name": "stdout",
     "output_type": "stream",
     "text": [
      "Loaded 40 examples.\n"
     ]
    },
    {
     "data": {
      "text/markdown": [
       "### 📝 Clinical Note:\n",
       "```\n",
       "CHIEF COMPLAINT\r\n",
       "\r\n",
       "High blood pressure check.\r\n",
       "\r\n",
       "HISTORY OF PRESENT ILLNESS\r\n",
       "\r\n",
       "Ms. Susan Watson is a 26-year-old female who presents to the clinic today for a high blood pressure check.\r\n",
       "\r\n",
       "The patient reports she has always struggled with high blood pressure, but it is seems out of control recently. She notes that she has interest in new medication or diet changes to help. She is currently on Norvasc 10 mg daily. Her blood pressure at home has been over 150. She notes she has had some headaches, but she is unsure if it is due to stress at work or her high blood pressure. She denies chest pain or shortness of breath.\r\n",
       "\r\n",
       "The patient underwent a kidney transplant a few years ago, and everything is going well. She is taking all of her immunosuppression medication.\r\n",
       "\r\n",
       "REVIEW OF SYSTEMS\r\n",
       "\r\n",
       "• Cardiovascular: Denies chest pain or dyspnea on exertion.\r\n",
       "• Respiratory: Denies shortness of breath\r\n",
       "• Neurological: Endorses headaches.\r\n",
       "\r\n",
       "PHYSICAL EXAMINATION\r\n",
       "\r\n",
       "• Constitutional: in no apparent distress.\r\n",
       "• Neck: Supple without thyromegaly or lymphadenopathy.\r\n",
       "• Respiratory: Lungs are clear to auscultation bilaterally. No wheezes, rales, or rhonchi.\r\n",
       "• Cardiovascular: 2/6 systolic ejection murmur.\r\n",
       "• Musculoskeletal: No edema.\r\n",
       "• Integumentary: Scar on left flank from kidney transplant, healed.\r\n",
       "\r\n",
       "RESULTS\r\n",
       "\r\n",
       "Creatinine: normal.\r\n",
       "\r\n",
       "Electrocardiogram: normal.\r\n",
       "\r\n",
       "ASSESSMENT AND PLAN\r\n",
       "\r\n",
       "Ms. Susan Watson is a 26-year-old female who is here today for a high blood pressure check.\r\n",
       "\r\n",
       "Hypertension.\r\n",
       "• Medical Reasoning: Her blood pressure is elevated today and based on her recent home monitoring.\r\n",
       "• Additional Testing: I would like to get a lipid panel and metabolic panel.\r\n",
       "• Medical Treatment: carvedilol 25 mg twice a day to help bring her blood pressure down.\r\n",
       "\r\n",
       "Status post kidney transplant.\r\n",
       "• Medical Reasoning: Doing well.\r\n",
       "Kidney function stable.\r\n",
       "• Medical Treatment: Continue current medications.\r\n",
       "\r\n",
       "Patient Agreements: The patient understands and agrees with the recommended medical treatment plan.\n",
       "```"
      ],
      "text/plain": [
       "<IPython.core.display.Markdown object>"
      ]
     },
     "metadata": {},
     "output_type": "display_data"
    },
    {
     "data": {
      "text/markdown": [
       "### 🗣️ Generated Dialogue:\n",
       "```\n",
       "[doctor] hi, dr. Susan Watson. how are you? [patient] i'm doing okay. i've been having some headaches, but i'm not sure if it's because of stress at work or my high blood pressure. i'm taking all of my immunosuppression medication, but it's seems out of control recently. (doctor] okay. so dr. sarah is a 26-year-old female who presents to the clinic today for a high pressure check. how's your blood pressure? how's it been going? i've had some headaches and shortness of breath, but everything is going well. i think it's just out ofcontrol recently. i have interest in new medication or diet changes to help. i'm currently on Norvasc 10 mg daily. my blood pressure at home has been over 150. i know that's been going on for a few years now, and i've noticed that it's been getting a little high lately. i do n't know what's going on with it. i would to get a lipid panel and metabolic panel to help bring it down, but that's not what i'm trying to do. i just want to make sure that everything is working out for me and my family. i want to get some new medication and diet changes for me to help out with my high pressure. so, i'm hoping that i can make some changes to my diet and my lifestyle to help with that. i'd to try some new diet changes. i really want to try a little bit of a diet change to help me out. i mean, i would love to try something new, a new diet, some new medications or diet, but nothing new is going on at all. i am just trying to make my life better. i feel i need to make some new lifestyle changes to try to help my health. i to be able to eat healthier. i love to cook and drink more wine. i also to eat a lot of healthy foods. i try to stay away from the processed foods, but sometimes i just feel a little short of breath. i hate to eat junk food, but this is really good. and i'm really looking forward to trying some new foods and new medications. i'll let when i'm ready. i can tell you more about the new foods i'm working on. i i'm just really excited to try them out. they're great. [doctor\n",
       "```"
      ],
      "text/plain": [
       "<IPython.core.display.Markdown object>"
      ]
     },
     "metadata": {},
     "output_type": "display_data"
    },
    {
     "name": "stdout",
     "output_type": "stream",
     "text": [
      "\n",
      "================================================================================\n",
      "\n"
     ]
    },
    {
     "data": {
      "text/markdown": [
       "### 📝 Clinical Note:\n",
       "```\n",
       "CHIEF COMPLAINT\r\n",
       "\r\n",
       "Hypertension.\r\n",
       "Alcohol use disorder.\r\n",
       "\r\n",
       "HISTORY OF PRESENT ILLNESS\r\n",
       "\r\n",
       "Amanda Taylor is an 72-year-old woman who presents for a follow-up for hypertension. History includes significant alcohol use disorder and mild hypercholesterolemia. At last visit on April 16, BP was 130/90. After presenting at 150/100 she was prescribed hydrochlorothiazide 12.5 mg by mouth once daily and lisinopril 20 mg by mouth once daily. CMP and CBC were essentially unremarkable.\r\n",
       "\r\n",
       "Mrs. Taylor admits to consuming alcohol 4-5 times a week and is interested in Naltrexone injections. She acknowledges that her blood pressure would likely improve if she stopped alcohol consumption. She is checking her blood pressure in the morning and evening, stating it is higher at night but will improve after sitting for a few minutes. She is averaged 135-145 or 150 over 95-110.\r\n",
       "\r\n",
       "She experienced side effects from lisinopril, such as headaches, “swooshing” in her left ear, and lethargy. She took half a dose and did not experience the side effects.\r\n",
       "\r\n",
       "PAST HISTORY\r\n",
       "\r\n",
       "Medical\r\n",
       "Hypertension.\r\n",
       "Hypercholesterolemia.\r\n",
       "Alcohol use disorder.\r\n",
       "\r\n",
       "CURRENT MEDICATIONS\r\n",
       "\r\n",
       "Lisinopril 20 mg tablet once daily.\r\n",
       "Hydrochlorothiazide 12.5 mg once daily.\r\n",
       "\r\n",
       "PHYSICAL EXAM\r\n",
       "\r\n",
       "Constitutional\r\n",
       "No distress. No fever. No tobacco or other substance use.\r\n",
       "\r\n",
       "Neurological\r\n",
       "Alert.\r\n",
       "\r\n",
       "Psychological\r\n",
       "She does not appear anxious, agitated or depressed.\r\n",
       "\r\n",
       "Neck\r\n",
       "JVP flat with a head at 90 degrees.\r\n",
       "\r\n",
       "Respiratory\r\n",
       "No cough or shortness of breath. Chest clear to percussion and auscultation. Unlabored breathing.\r\n",
       "\r\n",
       "Cardiovascular\r\n",
       "No CVA tenderness. Cardiac rhythm regular. No murmur. No gallop.\r\n",
       "\r\n",
       "Musculoskeletal\r\n",
       "No ankle edema.\r\n",
       "\r\n",
       "Integumentary\r\n",
       "Skin is moist. Good trigger.\r\n",
       "\r\n",
       "ASSESSMENT\r\n",
       "\r\n",
       "• Alcohol use disorder.\r\n",
       "• Hypertension.\r\n",
       "\r\n",
       "Mrs. Taylor presents for a follow-up for hypertension. History includes significant alcohol use disorder and mild hypercholesterolemia. At last visit on April 16, BP was 130/90. After presenting at 150/100 she was prescribed hydrochlorothiazide 12.5 mg by mouth once daily and lisinopril 20 mg by mouth once daily. CMP and CBC were essentially unremarkable.\r\n",
       "\r\n",
       "PLAN\r\n",
       "\r\n",
       "Alcohol use disorder\r\n",
       "I will start her on naltrexone which we have previously discussed. She will take the injectable form and start on May 17. We reviewed side effects and risks. The potential benefit of alcohol cessation would be highly beneficial to the patient.\r\n",
       "\r\n",
       "Hypertension\r\n",
       "She will continue taking lisinopril 10 mg/day and hydrochlorothiazide 12.5 mg daily. Quite possibly her blood pressure will improve significantly if she is able to completely stop consuming alcohol. Target BP is 130-140/70-80. I will see her back week of June 14 which likely will be the time of her second naltrexone injection.\r\n",
       "\r\n",
       "Recommend upgrading influenza vaccination and Shingrix #2, she defers this.\r\n",
       "\r\n",
       "INSTRUCTIONS\r\n",
       "\r\n",
       "Call the clinic with any questions. Make follow up appointment week of June 14th.\n",
       "```"
      ],
      "text/plain": [
       "<IPython.core.display.Markdown object>"
      ]
     },
     "metadata": {},
     "output_type": "display_data"
    },
    {
     "data": {
      "text/markdown": [
       "### 🗣️ Generated Dialogue:\n",
       "```\n",
       "[doctor] hi, amanda. how are you? [patient] i'm doing okay. how's your blood pressure? i'm good. i've been having some problems with my blood pressure, but i'm not really sure what's going on with it. i'm just having a hard time breathing. i know that you've been drinking a lot, but it's been really hard for me to breathe, and i'm trying to think of something to do to help me breathe. i think it's time to get started. i'll tell you a little bit about my history with hypertension. i was prescribed hydrochlorothiazide 12. 5 milligrams once daily and lisinopril 20 mg by mouth once daily. i took half a dose and it did n't seem to help at all. i just felt a little short of breath and it was really hard to breathe. (doctor] okay. so, , i know you're trying to get rid of alcohol, but you're not really doing that. i mean, you're just trying to stay away from alcohol, and you're really trying to be a good person. and then you start to feel a little dizzy, and then it starts to get a little more comfortable. and, , i think you need to stop drinking, , a couple times a week, and maybe stop smoking, or do you want to stop taking naltrexone injections? or, do you think you'll be able to get some relief from the medication? i know it's a lot of medication, but that's not really what i'm interested in. i do n't know. i would to stop smoking. i'd to start doing that, but the medication would be really good for me. i want to try it out before i start drinking. i really want to start taking it, but, , i just want to see if it helps with the blood pressure. i need to do some tests before i do that. and i'll do some blood pressure checks, but not before i sit down and take a few minutes to check it out. i have been doing that for about a year now. and it seems to be going okay, but then it gets a little higher at night, and it does n't improve after sitting for a while. so i'll try to do that, okay? and then i'll see if i can get some more blood pressure in the morning and evening.\n",
       "```"
      ],
      "text/plain": [
       "<IPython.core.display.Markdown object>"
      ]
     },
     "metadata": {},
     "output_type": "display_data"
    },
    {
     "name": "stdout",
     "output_type": "stream",
     "text": [
      "\n",
      "================================================================================\n",
      "\n"
     ]
    },
    {
     "data": {
      "text/markdown": [
       "### 📝 Clinical Note:\n",
       "```\n",
       "CHIEF COMPLAINT\r\n",
       "\r\n",
       "Right hand pain.\r\n",
       "\r\n",
       "HISTORY OF PRESENT ILLNESS\r\n",
       "\r\n",
       "Alexis Gutierrez is a pleasant 33-year-old female who presents to the clinic today for the evaluation of right hand pain.\r\n",
       "\r\n",
       "Approximately 6 months ago, the patient began experiencing intermittent episodes of numbness and tingling in the 1st, 2nd, and 3rd digits on her right hand. The numbness and tingling has become constant over the past month or so and is accompanied by pain with typing and using a mouse, which she does all day while working on a keyboard. She denies any sleep disturbance associated with her symptoms. Rest and ibuprofen have been the most helpful at providing symptomatic relief.\r\n",
       "\r\n",
       "SOCIAL HISTORY\r\n",
       "\r\n",
       "The patient reports that she works on a keyboard all day.\r\n",
       "\r\n",
       "MEDICATIONS\r\n",
       "\r\n",
       "The patient reports that she has been taking ibuprofen.\r\n",
       "\r\n",
       "REVIEW OF SYSTEMS\r\n",
       "\r\n",
       "Constitutional: Denies sleep disturbance.\r\n",
       "Musculoskeletal: Reports pain in the 1st, 2nd, and 3rd digits on the right hand.\r\n",
       "Neurological: Reports numbness and tingling in the 1st, 2nd, and 3rd digits on the right hand.\r\n",
       "\r\n",
       "PHYSICAL EXAM\r\n",
       "\r\n",
       "MSK: Examination of the right hand: Pain with flexion and extension of the wrist.. Decreased grip strength on the right compared to the left. Positive Tinel's sign.\r\n",
       "\r\n",
       "ASSESSMENT\r\n",
       "\r\n",
       "Right carpal tunnel syndrome.\r\n",
       "\r\n",
       "PLAN\r\n",
       "\r\n",
       "After reviewing her symptoms and exam findings, I believe her symptoms are secondary to carpal tunnel syndrome. We discussed the nature of this condition, as well as her treatment options, in detail. I recommend we treat this conservatively with nighttime wrist splinting and ibuprofen, but I want to increase her dose to 600 mg 4 times daily. I'm also going to order an EMG/Nerve conduction study for further evaluation. If this is positive, we can consider additional treatment with physical therapy or surgical intervention with carpal tunnel release.\n",
       "```"
      ],
      "text/plain": [
       "<IPython.core.display.Markdown object>"
      ]
     },
     "metadata": {},
     "output_type": "display_data"
    },
    {
     "data": {
      "text/markdown": [
       "### 🗣️ Generated Dialogue:\n",
       "```\n",
       "[doctor] hi, Alexis. how are you? [patient] i'm doing okay. how about your right hand? [doctor]: i'm good. i'm glad to see you. (patient] okay. so i'm a 33-year-old female here for the evaluation of right hand pain. how long ago? how long have you been experiencing this pain? i've been working on a keyboard all day, but it's been constant over the past month or so, and it's just been constant for about six months or so. i have been taking ibuprofen, but the numbness and tingling has become constant. and the pain is accompanied by pain with typing and using a mouse, which she does all day while working on the keyboard. so, what's going on with that? i'm taking some tylenol, but i'm not sure if it's because of sleep disturbance or anything that, but, i do n't know. i just feel i'm having a lot of pain with my right hand, and i'm just trying to type and use a mouse. and, , i'm trying to do all that while i'm typing, and when i'm working on my keyboard, i feel my fingers are going to go numb, and then i just get numb and it starts to tingle and tingle. and then it gets worse and worse over the course of the day. and i just have to sit down and type all day and i can't type any more, and that's the worst part of the pain. and so, when i sit down to type, i have to use a keyboard, which i do all day in the morning, and the rest of the time i just sit down at the keyboard and type on it. and it just hurts all day when i do that. and sometimes it even hurts when i type, when i try to type on the mouse, it hurts a lot. and when it hurts, it's it hurts all the time. and if it gets better, i'll try to get some rest, but that's not really the best thing to do for this pain. so, i'm going to do some sleep monitoring, okay. and do you have any sleep disturbance associated with the pain? or any other symptoms numbness or numbness in the hand?\n",
       "```"
      ],
      "text/plain": [
       "<IPython.core.display.Markdown object>"
      ]
     },
     "metadata": {},
     "output_type": "display_data"
    },
    {
     "name": "stdout",
     "output_type": "stream",
     "text": [
      "\n",
      "================================================================================\n",
      "\n"
     ]
    },
    {
     "data": {
      "text/markdown": [
       "### 📝 Clinical Note:\n",
       "```\n",
       "CHIEF COMPLAINT\r\n",
       "\r\n",
       "Follow-up.\r\n",
       "\r\n",
       "MEDICAL HISTORY\r\n",
       "\r\n",
       "Patient reports having a heart attack 6 months ago, coronary artery disease, diabetes.\r\n",
       "\r\n",
       "SURGICAL HISTORY\r\n",
       "\r\n",
       "Patient reports history of stent placement at the left anterior descending artery.\r\n",
       "\r\n",
       "SOCIAL HISTORY\r\n",
       "\r\n",
       "Patient reports that he is from the west coast and is a San Francisco 49ers fan. He lives with his dog.\r\n",
       "\r\n",
       "MEDICATIONS\r\n",
       "\r\n",
       "Patient reports taking aspirin, Brilinta, fish oil, Crestor, metoprolol 50 mg once a day,\r\n",
       "\r\n",
       "REVIEW OF SYSTEMS\r\n",
       "\r\n",
       "Musculoskeletal: Reports non-pitting lower extremity edema. Denies muscle aches.\r\n",
       "Neurological: Reports dizziness and headaches.\r\n",
       "Psychiatric: Reports depression. Denies suicidal ideation or homicidal ideation.\r\n",
       "\r\n",
       "VITALS\r\n",
       "\r\n",
       "Vital signs look good with blood pressure of 127/80.\r\n",
       "\r\n",
       "PHYSICAL EXAM\r\n",
       "\r\n",
       "Neck\r\n",
       "- General Examination: No jugular venous distention or carotid bruits.\r\n",
       "\r\n",
       "Respiratory\r\n",
       "- Assessment of Respiratory Effort: Normal respiratory effort.\r\n",
       "- Auscultation of Lungs: Clear bilaterally. No wheezes, rales, or rhonchi.\r\n",
       "\r\n",
       "Cardiovascular\r\n",
       "- Auscultation of Heart: Slight, 3/6 systolic ejection murmur heard at the left base.\r\n",
       "\r\n",
       "Musculoskeletal\r\n",
       "- Examination: 1+ non-pitting lower extremity edema.\r\n",
       "\r\n",
       "RESULTS\r\n",
       "\r\n",
       "Lab results are reviewed and show stable a creatinine level.\r\n",
       "\r\n",
       "ASSESSMENT AND PLAN\r\n",
       "\r\n",
       "1. Coronary artery disease.\r\n",
       "- Medical Reasoning: The patient is doing very well and has been compliant with all medications. A slight 3/6 ejection murmur was heard on exam, however, this is stable and has been present in the past. He is experiencing 1+ non-pitting edema, but this seems to be medication related.\r\n",
       "\r\n",
       "- Patient Education and Counseling: Patient was advised that his stents will remain in place permanently and that they typically do not require replacement. We discussed it is common to experience dizziness when standing quickly and that this should resolve once he is adjusted to his medications. We also discussed that cardiac rehab will be beneficial in helping him become more active and confident with exercising. He was advised to watch for symptoms such as chest pain or shortness of breath on exertion as this would need further testing such as a stress test.\r\n",
       "- Medical Treatment: Referral to cardiac rehab was provided. A refill for metoprolol 50 mg once a day and Crestor 40 mg once a day was also provided. He is also advised to continue aspirin daily long term as well as Brilinta for the next 6 months.\r\n",
       "\r\n",
       "2. Stage 3 chronic kidney disease.\r\n",
       "- Medical Reasoning: Patient's most recent creatinine levels are stable.\r\n",
       "- Patient Education and Counseling: We discussed the importance of following up with nephrology.\r\n",
       "- Medical Treatment: He will follow up with his nephrologist, Dr. Miller.\r\n",
       "\r\n",
       "3. Diabetes.\r\n",
       "- Medical Reasoning: Patient reports most recent hemoglobin A1c was 16.\r\n",
       "- Patient Education and Counseling: We discussed the importance of diabetes management and how plays an important role in his coronary artery disease. He was advised that his hemoglobin A1c goal will be 6.\r\n",
       "- Medical Treatment: Repeat hemoglobin A1c was ordered today. A dietitian referral for diabetes education was also provided. We will contact his primary care physician regarding his insulin regimen.\r\n",
       "\r\n",
       "4. Mild depression:\r\n",
       "- Medical Reasoning: Patient reports feeling depressed and having a hard time adjusting since having his heart attack. He mentions he is also lonely and does not have a support system.\r\n",
       "- Medical Treatment: Referral to psychiatry was provided today.\r\n",
       "\r\n",
       "Patient Agreements: The patient understands and agrees with the recommended medical treatment plan.\n",
       "```"
      ],
      "text/plain": [
       "<IPython.core.display.Markdown object>"
      ]
     },
     "metadata": {},
     "output_type": "display_data"
    },
    {
     "data": {
      "text/markdown": [
       "### 🗣️ Generated Dialogue:\n",
       "```\n",
       "[doctor] hi dax. how are you? [patient] i'm doing very well. [doctor]: i'm good. i'm just having a heart attack six months ago, coronary artery disease, diabetes. so i'm having a little heart attack 6 months ago and i had to have a stent placement at the left anterior descending artery. so, i've been having some problems with my blood pressure and my cholesterol and triglycerides but i'm not sure what's going on with that because i'm from the west coast and i'm a San Francisco 49ers fan and i to watch the 49ers games and i love to watch them but i have a little bit of a problem with my cholesterol because i have high cholesterol and high triglycerides and my triglycerides are high and i have to take a lot of medications to get my cholesterol up to the high level of normal, but i do n't know if that's related to the heart attack or if it's just medication related or something that but i think it's something that's just going on in my body and i just need to get it under control and i'll be able to get some relief from it and then i can go back to my normal routine of taking my medications and taking my heart medication and i can feel my heart rate going up and down but i still have some muscle aches and headaches and i feel i'm going to have to go to the bathroom and take some ibuprofen but i can't do that because my heart is really high and it's really hard to breathe so i just have to stay in bed and take my medication and then when i wake up i'll go to bed and i will take my aspirin and i take my tylenol and i go to sleep and i do to sleep but when i get up i get really dizzy and my headache gets really bad and my headaches get worse and worse and i start to get really nauseous and my fever gets really high so i try to stay asleep but i just can't get to sleep because i just feel I'm in a really bad mood and i want to get out of bed and get some rest (doctor] okay. and then what about your blood pressure? how is it doing with your heart and your cholesterol and your triglycerides? how are your blood pressures doing\n",
       "```"
      ],
      "text/plain": [
       "<IPython.core.display.Markdown object>"
      ]
     },
     "metadata": {},
     "output_type": "display_data"
    },
    {
     "name": "stdout",
     "output_type": "stream",
     "text": [
      "\n",
      "================================================================================\n",
      "\n"
     ]
    },
    {
     "data": {
      "text/markdown": [
       "### 📝 Clinical Note:\n",
       "```\n",
       "CHIEF COMPLAINT\r\n",
       "\r\n",
       "Right elbow pain.\r\n",
       "\r\n",
       "REVIEW OF SYSTEMS\r\n",
       "\r\n",
       "Cardiovascular: Denies chest pain.\r\n",
       "Gastrointestinal: Denies abdominal pain.\r\n",
       "Musculoskeletal: Reports right elbow pain.\r\n",
       "\r\n",
       "VITALS\r\n",
       "\r\n",
       "Blood pressure: 150/90 mmHg\r\n",
       "\r\n",
       "PHYSICAL EXAM\r\n",
       "\r\n",
       "Respiratory\r\n",
       "- Auscultation of Lungs: Clear bilaterally.\r\n",
       "\r\n",
       "Cardiovascular\r\n",
       "Grade 2/6 systolic ejection murmur.\r\n",
       "\r\n",
       "Musculoskeletal\r\n",
       "- Examination: Pain to palpation of the olecranon area of the posterior elbow. Mild pain with flexion and extension but otherwise normal range of motion. There is swelling about the elbow, as well as mild ecchymosis.\r\n",
       "\r\n",
       "Hematology/Lymphatic/Immunology\r\n",
       "- Examination: Bruising noted over the right elbow.\r\n",
       "\r\n",
       "RESULTS\r\n",
       "\r\n",
       "X-ray of the right elbow was reviewed and demonstrates no evidence of fracture or bony abnormalities.\r\n",
       "\r\n",
       "ASSESSMENT AND PLAN\r\n",
       "\r\n",
       "1. Right elbow contusion.\r\n",
       "- Medical Reasoning: The patient sustained an injury to his elbow when his son struck him with a lacrosse stick. His x-ray and exam findings are consistent with an elbow contusion.\r\n",
       "- Patient Education and Counseling: I encouraged the patient to avoid playing lacrosse for the next couple of weeks, just until his elbow heals. After that, he should be fine to continue playing normally.\r\n",
       "- Medical Treatment: I'm going to prescribe him ibuprofen 800 mg twice daily to help with some of the pain and swelling. He should also ice the area in 20-minute intervals 3 times per day to further reduce his symptoms.\r\n",
       "\r\n",
       "2. Hypertension.\r\n",
       "- Medical Reasoning: This appears to be well-controlled with dietary modifications and lisinopril.\r\n",
       "- Patient Education and Counseling: I encouraged him to keep up with his dietary modifications.\r\n",
       "- Medical Treatment: We will keep him on lisinopril 20 mg daily.\r\n",
       "\r\n",
       "3. Diabetes.\r\n",
       "- Medical Reasoning: This appears to be well controlled at this time.\r\n",
       "- Medical Treatment: We will keep him on metformin 500 mg and order a hemoglobin A1c to evaluate any need for medication adjustments.\r\n",
       "\r\n",
       "Patient Agreements: The patient understands and agrees with the recommended medical treatment plan.\n",
       "```"
      ],
      "text/plain": [
       "<IPython.core.display.Markdown object>"
      ]
     },
     "metadata": {},
     "output_type": "display_data"
    },
    {
     "data": {
      "text/markdown": [
       "### 🗣️ Generated Dialogue:\n",
       "```\n",
       "[doctor] okay so how are you doing [patient] i'm doing okay i'm just having some pain in my elbow and it hurts a little bit but i'm still able to move my elbow okay so what's going on with your elbow (doctor] it's just a little sore but it's not it's really bothering me at all so i'm trying to stay away from the pain and it's getting worse and worse and i've been having it for a couple of weeks now and i just can't get away from it and i'm not able to get away with it so i have to go to the doctor and get an x-ray of it and it looks there's some swelling about the elbow and some swelling over the elbow but nothing that i can't move it or feel it or anything that so i'll just go ahead and do a quick exam and see if it's anything that's bothering me or if it just bothers me or is it just something that's just bothering me and it just seems to be bothering me more and more it just hurts more and it gets worse and more so it's it hurts more when i move it and then it gets really tight and it starts hurting more and i get really sore and it really hurts when i try to move it but it does n't seem to be going away so i do n't know if that's because it's been bothering me for a while or because i've just been having a lot of pain and swelling and it seems i just need to get out of the house and play some lacrosse and i'll be able to do that but i just have to be careful with my diet and my medications because i'm a little concerned about my weight and my weight - doctor[patient], okay and have you been taking any ibuprofen or anything to help with the pain or swelling or anything that you've been experiencing\r�醒[doctor], okay so you've had some elbow pain in the past but now you're able to go out and play lacrosse i'm going to keep you on lisinopril 20 milligrams a day and then i'll try to get you off of that and then you'll be fine to continue playing but when you start having pain in your elbow it starts swelling and the swelling starts going up and then the swelling goes down and you have to ice the area\n",
       "```"
      ],
      "text/plain": [
       "<IPython.core.display.Markdown object>"
      ]
     },
     "metadata": {},
     "output_type": "display_data"
    },
    {
     "name": "stdout",
     "output_type": "stream",
     "text": [
      "\n",
      "================================================================================\n",
      "\n"
     ]
    }
   ],
   "source": [
    "import pandas as pd\n",
    "import random\n",
    "from IPython.display import Markdown, display\n",
    "\n",
    "# 1. Load generated results\n",
    "df = pd.read_csv(\"generated_test_dialogues_bart.csv\")\n",
    "print(f\"Loaded {len(df)} examples.\")\n",
    "\n",
    "# 2. Inspect random sample\n",
    "def show_random_examples(n=5):\n",
    "    samples = df.sample(n)\n",
    "    for _, row in samples.iterrows():\n",
    "        note = row['note']\n",
    "        dialogue = row['generated_dialogue']\n",
    "        display(Markdown(f\"### 📝 Clinical Note:\\n```\\n{note.strip()}\\n```\"))\n",
    "        display(Markdown(f\"### 🗣️ Generated Dialogue:\\n```\\n{dialogue.strip()}\\n```\"))\n",
    "        print(\"\\n\" + \"=\"*80 + \"\\n\")\n",
    "\n",
    "show_random_examples(5)\n",
    "\n",
    "# 3. (Optional) Save dialogues to individual .txt files\n",
    "import os\n",
    "os.makedirs(\"dialogue_outputs\", exist_ok=True)\n",
    "\n",
    "for idx, row in df.iterrows():\n",
    "    with open(f\"dialogue_outputs/dialogue_{idx:04d}.txt\", \"w\", encoding=\"utf-8\") as f:\n",
    "        f.write(\"<note>\\n\")\n",
    "        f.write(row['note'].strip() + \"\\n\\n\")\n",
    "        f.write(\"<generated_dialogue>\\n\")\n",
    "        f.write(row['generated_dialogue'].strip() + \"\\n\")\n"
   ]
  },
  {
   "cell_type": "code",
   "execution_count": 4,
   "id": "5edbe734",
   "metadata": {},
   "outputs": [
    {
     "name": "stdout",
     "output_type": "stream",
     "text": [
      "✅ Scored file saved to generated_test_dialogues_scored.csv\n",
      "📊 Avg BLEU: 0.0143, Avg ROUGE-L: 0.1635\n"
     ]
    }
   ],
   "source": [
    "from nltk.translate.bleu_score import sentence_bleu, SmoothingFunction\n",
    "from rouge_score import rouge_scorer\n",
    "import pandas as pd\n",
    "\n",
    "df = pd.read_csv(\"generated_test_dialogues_bart.csv\")\n",
    "\n",
    "scorer = rouge_scorer.RougeScorer(['rougeL'], use_stemmer=True)\n",
    "smooth = SmoothingFunction().method4\n",
    "\n",
    "bleu_scores = []\n",
    "rouge_l_scores = []\n",
    "\n",
    "for _, row in df.iterrows():\n",
    "    reference = row['dialogue'].strip().split()\n",
    "    prediction = row['generated_dialogue'].strip().split()\n",
    "\n",
    "    bleu = sentence_bleu([reference], prediction, smoothing_function=smooth)\n",
    "    rouge_l = scorer.score(row['dialogue'], row['generated_dialogue'])['rougeL'].fmeasure\n",
    "\n",
    "    bleu_scores.append(bleu)\n",
    "    rouge_l_scores.append(rouge_l)\n",
    "\n",
    "df['bleu'] = bleu_scores\n",
    "df['rougeL'] = rouge_l_scores\n",
    "\n",
    "df.to_csv(\"generated_test_dialogues_scored.csv\", index=False)\n",
    "print(\"✅ Scored file saved to generated_test_dialogues_scored.csv\")\n",
    "print(f\"📊 Avg BLEU: {sum(bleu_scores)/len(bleu_scores):.4f}, Avg ROUGE-L: {sum(rouge_l_scores)/len(rouge_l_scores):.4f}\")\n"
   ]
  }
 ],
 "metadata": {
  "kernelspec": {
   "display_name": "licenta",
   "language": "python",
   "name": "python3"
  },
  "language_info": {
   "codemirror_mode": {
    "name": "ipython",
    "version": 3
   },
   "file_extension": ".py",
   "mimetype": "text/x-python",
   "name": "python",
   "nbconvert_exporter": "python",
   "pygments_lexer": "ipython3",
   "version": "3.10.13"
  }
 },
 "nbformat": 4,
 "nbformat_minor": 5
}
